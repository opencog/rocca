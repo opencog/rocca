{
 "cells": [
  {
   "cell_type": "code",
   "execution_count": null,
   "metadata": {},
   "outputs": [],
   "source": [
    "#hide\n",
    "from rocca.agents import *\n",
    "from rocca.envs import *"
   ]
  },
  {
   "cell_type": "markdown",
   "metadata": {},
   "source": [
    "# Rational OpenCog Controlled Agent\n",
    "\n",
    "> Use OpenCog to control a rational agent in OpenAI Gym and Malmo environments."
   ]
  },
  {
   "cell_type": "markdown",
   "metadata": {},
   "source": [
    "OpenCog wrapper around OpenAI Gym.\n",
    "\n",
    "Highly experimental at this stage."
   ]
  },
  {
   "cell_type": "markdown",
   "metadata": {},
   "source": [
    "## Requirements"
   ]
  },
  {
   "cell_type": "markdown",
   "metadata": {},
   "source": [
    "OpenCog tools\n",
    "\n",
    "- cogutil\n",
    "- atomspace\n",
    "- ure\n",
    "- spacetime\n",
    "- pln\n",
    "- miner\n",
    "- cogserver\n",
    "- attention\n",
    "- opencog\n",
    "\n",
    "Third party tools\n",
    "\n",
    "- Python 3\n",
    "- python-orderedmultidict https://pypi.org/project/orderedmultidict/\n",
    "- OpenAI Gym https://gym.openai.com/\n",
    "- Malmo https://github.com/Microsoft/malmo (after compiling Malmo,\n",
    "  copy `<MALMO>/build/install/Python_Examples/MalmoPython.so` and\n",
    "  `<MALMO>/build/install/Python_Examples/malmoutils.py` under\n",
    "  `<ROCCA>/examples/malmo`)"
   ]
  },
  {
   "cell_type": "markdown",
   "metadata": {},
   "source": [
    "## Install"
   ]
  },
  {
   "cell_type": "markdown",
   "metadata": {},
   "source": [
    "In the root folder enter the following command:\n",
    "\n",
    "```bash\n",
    "pip install -e .\n",
    "```"
   ]
  },
  {
   "cell_type": "markdown",
   "metadata": {},
   "source": [
    "## How to use"
   ]
  },
  {
   "cell_type": "markdown",
   "metadata": {},
   "source": [
    "For now a gym agent defined under the `rocca/agents` folder is provided that\n",
    "can used to implement agents for given environments.  See the examples\n",
    "under the `examples` folder."
   ]
  }
 ],
 "metadata": {
  "kernelspec": {
   "display_name": "Python 3",
   "language": "python",
   "name": "python3"
  }
 },
 "nbformat": 4,
 "nbformat_minor": 2
}
