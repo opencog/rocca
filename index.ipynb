{
 "cells": [
  {
   "cell_type": "code",
   "execution_count": 1,
   "metadata": {},
   "outputs": [],
   "source": [
    "#hide\n",
    "from rocca.agents import *\n",
    "from rocca.envs import *"
   ]
  },
  {
   "cell_type": "markdown",
   "metadata": {},
   "source": [
    "# Rational OpenCog Controlled Agent\n",
    "\n",
    "> Use OpenCog to control a rational agent in OpenAI Gym and Malmo environments."
   ]
  },
  {
   "cell_type": "markdown",
   "metadata": {},
   "source": [
    "OpenCog wrapper around OpenAI Gym.\n",
    "\n",
    "Highly experimental at this stage."
   ]
  },
  {
   "cell_type": "markdown",
   "metadata": {},
   "source": [
    "## Requirements"
   ]
  },
  {
   "cell_type": "markdown",
   "metadata": {},
   "source": [
    "OpenCog tools\n",
    "\n",
    "- cogutil\n",
    "- atomspace\n",
    "- ure\n",
    "- spacetime\n",
    "- pln\n",
    "- miner\n",
    "- [optional] cogserver\n",
    "- [optional] attention\n",
    "- [optional] opencog\n",
    "\n",
    "Third party tools\n",
    "\n",
    "- Python 3\n",
    "- python-orderedmultidict https://pypi.org/project/orderedmultidict/\n",
    "- fastcore https://fastcore.fast.ai\n",
    "- OpenAI Gym https://gym.openai.com/\n",
    "- MineRL https://minerl.io\n",
    "- nbdev https://nbdev.fast.ai"
   ]
  },
  {
   "cell_type": "markdown",
   "metadata": {},
   "source": [
    "## Install"
   ]
  },
  {
   "cell_type": "markdown",
   "metadata": {},
   "source": [
    "In the root folder enter the following command:\n",
    "\n",
    "```bash\n",
    "pip install -e .\n",
    "```"
   ]
  },
  {
   "cell_type": "markdown",
   "metadata": {},
   "source": [
    "## How to use"
   ]
  },
  {
   "cell_type": "markdown",
   "metadata": {},
   "source": [
    "For now a gym agent defined under the `rocca/agents` folder is provided that\n",
    "can used to implement agents for given environments.  See the examples\n",
    "under the `examples` folder.\n",
    "\n",
    "There are Jupyter notebooks provided for experimentation as well."
   ]
  },
  {
   "cell_type": "markdown",
   "metadata": {},
   "source": [
    "## Develop"
   ]
  },
  {
   "cell_type": "markdown",
   "metadata": {},
   "source": [
    "### nbdev workflow\n",
    "\n",
    "You do not have to use `nbdev` to work with the code under the `rocca` directory.\n",
    "You should use it though if you want to work with Jupyter notebooks, the repository is setup to use certain\n",
    "utilities to clean them from unnecessary metadata when committing.\n",
    "\n",
    "One important mention is that `README.md` is now generated from `index.ipynb` by `nbdev_build_docs` command.\n",
    "Thus, you should not edit `README.md` directly.\n",
    "\n",
    "Exports from notebooks are generated with `nbdev_build_lib`. Changes to the exported code can be synchronized\n",
    "back to notebooks with `nbdev_update_lib`.\n",
    "\n",
    "### VS Code devcontainer\n",
    "\n",
    "This repository contains configuration that can be automatically used by VS Code to build a Docker container\n",
    "that will have the contents of this repository mounted and all dependencies installed. VS Code should ask you\n",
    "to reopen the directory in a container if you have its _Remote-Containers_ extension installed.\n",
    "\n",
    "Running the provided configuration will start a JupyterLab instance that will be available on port 8888.\n",
    "\n",
    "**You have to inspect `.devcontainer/docker-compose.yml` and take care to set environment variables mentioned there.**\n",
    "\n",
    "There is also the `.devcontainer/docker-compose-custom.yml` that you can use to add your own configuration, matching your\n",
    "personal needs."
   ]
  }
 ],
 "metadata": {
  "kernelspec": {
   "display_name": "Python 3.8.5 64-bit",
   "name": "python385jvsc74a57bd031f2aee4e71d21fbe5cf8b01ff0e069b9275f58929596ceb00d14d90e3e16cd6"
  },
  "language_info": {
   "codemirror_mode": {
    "name": "ipython",
    "version": 3
   },
   "file_extension": ".py",
   "mimetype": "text/x-python",
   "name": "python",
   "nbconvert_exporter": "python",
   "pygments_lexer": "ipython3",
   "version": "3.8.5"
  },
  "metadata": {
   "interpreter": {
    "hash": "31f2aee4e71d21fbe5cf8b01ff0e069b9275f58929596ceb00d14d90e3e16cd6"
   }
  }
 },
 "nbformat": 4,
 "nbformat_minor": 2
}